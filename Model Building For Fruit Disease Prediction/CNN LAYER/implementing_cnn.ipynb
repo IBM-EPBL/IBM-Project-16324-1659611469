{
  "cells": [
    {
      "cell_type": "code",
      "execution_count": null,
      "id": "74351bc1",
      "metadata": {
        "id": "74351bc1"
      },
      "outputs": [],
      "source": [
        "from tensorflow.keras.preprocessing.image import ImageDataGenerator"
      ]
    },
    {
      "cell_type": "code",
      "execution_count": null,
      "id": "933de125",
      "metadata": {
        "id": "933de125"
      },
      "outputs": [],
      "source": [
        "train_datagen = ImageDataGenerator(rescale = 1./255,shear_range = 0.2,zoom_range = 0.2,horizontal_flip = True)\n",
        "test_datagen = ImageDataGenerator(rescale = 1./255)"
      ]
    },
    {
      "cell_type": "code",
      "execution_count": null,
      "id": "31a88964",
      "metadata": {
        "id": "31a88964",
        "outputId": "cdff02cd-54ba-43b2-e5f9-7bf8a6b871c2"
      },
      "outputs": [
        {
          "name": "stdout",
          "output_type": "stream",
          "text": [
            "Found 5384 images belonging to 6 classes.\n",
            "Found 1686 images belonging to 6 classes.\n"
          ]
        }
      ],
      "source": [
        "x_train = train_datagen.flow_from_directory('C:\\\\Users\\\\SMTEC\\\\Desktop\\\\Brahmani_Project_Build_A_Thon\\\\Brahmani_Project_Build_A_Thon\\\\Dataset Plant Disease\\\\fruit-dataset\\\\fruit-dataset\\\\train',target_size = (128,128),batch_size=8,class_mode = 'categorical')\n",
        "x_test = test_datagen.flow_from_directory('C:\\\\Users\\\\SMTEC\\\\Desktop\\\\Brahmani_Project_Build_A_Thon\\\\Brahmani_Project_Build_A_Thon\\\\Dataset Plant Disease\\\\fruit-dataset\\\\fruit-dataset\\\\test',target_size = (128,128),batch_size=8,class_mode = 'categorical')"
      ]
    },
    {
      "cell_type": "code",
      "execution_count": null,
      "id": "1c0b4c56",
      "metadata": {
        "id": "1c0b4c56",
        "outputId": "ad97da0e-6c4b-415a-f16c-f0cae74be2a5"
      },
      "outputs": [
        {
          "data": {
            "text/plain": [
              "{'Apple___Black_rot': 0,\n",
              " 'Apple___healthy': 1,\n",
              " 'Corn_(maize)___Northern_Leaf_Blight': 2,\n",
              " 'Corn_(maize)___healthy': 3,\n",
              " 'Peach___Bacterial_spot': 4,\n",
              " 'Peach___healthy': 5}"
            ]
          },
          "execution_count": 5,
          "metadata": {},
          "output_type": "execute_result"
        }
      ],
      "source": [
        "x_train.class_indices"
      ]
    },
    {
      "cell_type": "code",
      "execution_count": null,
      "id": "0411e2d2",
      "metadata": {
        "id": "0411e2d2",
        "outputId": "9c68bfeb-dba6-4a53-886c-11c134fb2306"
      },
      "outputs": [
        {
          "data": {
            "text/plain": [
              "{'Apple___Black_rot': 0,\n",
              " 'Apple___healthy': 1,\n",
              " 'Corn_(maize)___Northern_Leaf_Blight': 2,\n",
              " 'Corn_(maize)___healthy': 3,\n",
              " 'Peach___Bacterial_spot': 4,\n",
              " 'Peach___healthy': 5}"
            ]
          },
          "execution_count": 6,
          "metadata": {},
          "output_type": "execute_result"
        }
      ],
      "source": [
        "x_test.class_indices"
      ]
    },
    {
      "cell_type": "code",
      "execution_count": null,
      "id": "2f92b75f",
      "metadata": {
        "id": "2f92b75f"
      },
      "outputs": [],
      "source": [
        "from keras.models import Sequential\n",
        "from keras.layers import Dense\n",
        "from keras.layers import Convolution2D\n",
        "from keras.layers import MaxPooling2D\n",
        "from keras.layers import Flatten"
      ]
    },
    {
      "cell_type": "code",
      "execution_count": null,
      "id": "16c6cb2a",
      "metadata": {
        "id": "16c6cb2a"
      },
      "outputs": [],
      "source": [
        "model = Sequential()"
      ]
    },
    {
      "cell_type": "code",
      "execution_count": null,
      "id": "ede7fa24",
      "metadata": {
        "id": "ede7fa24"
      },
      "outputs": [],
      "source": [
        "model.add(Convolution2D(32,(3,3),input_shape=(128,128,3),activation='relu'))"
      ]
    },
    {
      "cell_type": "code",
      "execution_count": null,
      "id": "75a3896b",
      "metadata": {
        "id": "75a3896b"
      },
      "outputs": [],
      "source": [
        "model.add(MaxPooling2D(pool_size=(2,2)))"
      ]
    },
    {
      "cell_type": "code",
      "execution_count": null,
      "id": "ee3ebdfd",
      "metadata": {
        "id": "ee3ebdfd"
      },
      "outputs": [],
      "source": [
        "model.add(Flatten())"
      ]
    },
    {
      "cell_type": "code",
      "execution_count": null,
      "id": "1b9d0ee7",
      "metadata": {
        "id": "1b9d0ee7"
      },
      "outputs": [],
      "source": [
        "model.add(Dense(128 ,activation='relu'))\n",
        "model.add(Dense(64,activation = 'relu'))"
      ]
    },
    {
      "cell_type": "code",
      "execution_count": null,
      "id": "0034c1f1",
      "metadata": {
        "id": "0034c1f1"
      },
      "outputs": [],
      "source": []
    }
  ],
  "metadata": {
    "kernelspec": {
      "display_name": "Python 3 (ipykernel)",
      "language": "python",
      "name": "python3"
    },
    "language_info": {
      "codemirror_mode": {
        "name": "ipython",
        "version": 3
      },
      "file_extension": ".py",
      "mimetype": "text/x-python",
      "name": "python",
      "nbconvert_exporter": "python",
      "pygments_lexer": "ipython3",
      "version": "3.9.7"
    },
    "colab": {
      "provenance": []
    }
  },
  "nbformat": 4,
  "nbformat_minor": 5
}